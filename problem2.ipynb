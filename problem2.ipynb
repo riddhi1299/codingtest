{
 "cells": [
  {
   "cell_type": "code",
   "execution_count": 1,
   "metadata": {},
   "outputs": [
    {
     "name": "stdout",
     "output_type": "stream",
     "text": [
      "Enter the number of elements for input_array: 5\n",
      "Enter element: cow\n",
      "Enter element: cat\n",
      "Enter element: cow\n",
      "Enter element: fish\n",
      "Enter element: bull\n",
      "['cow', 'cat', 'cow', 'fish', 'bull']\n"
     ]
    }
   ],
   "source": [
    "input_array=[]\n",
    "prompt=\"Enter the number of elements for input_array: \"\n",
    "while True:\n",
    "    try:\n",
    "        no_ele=int(input(prompt))\n",
    "    except ValueError:\n",
    "        continue\n",
    "    \n",
    "    if no_ele>1000:\n",
    "        prompt=\"Size of input_array should not be greater then 1000. \\n Please Renter the number: \"\n",
    "    elif no_ele<=0:\n",
    "         prompt=\"Size of input_array should be greater then 0. \\n Please Renter the number: \"\n",
    "    else:\n",
    "        break        \n",
    "\n",
    "for i in range(no_ele):\n",
    "    prompt=\"Enter element: \"\n",
    "    while True:\n",
    "        try:\n",
    "            element=input(prompt)\n",
    "        except ValueError:\n",
    "             continue\n",
    "    \n",
    "        if len(element)>1000:\n",
    "            prompt=\"The element should not exceed 1000 characters. \\n Please Renter the element: \"\n",
    "        else:\n",
    "            break\n",
    "\n",
    "    input_array.append(element)\n",
    "    \n",
    "print(input_array)\n"
   ]
  },
  {
   "cell_type": "code",
   "execution_count": 2,
   "metadata": {},
   "outputs": [
    {
     "name": "stdout",
     "output_type": "stream",
     "text": [
      "Enter the number of elements for rejected_items: 3\n",
      "Enter element: fish\n",
      "Enter element: bat\n",
      "Enter element: cow\n",
      "['fish', 'bat', 'cow']\n"
     ]
    }
   ],
   "source": [
    "rejected_items=[]\n",
    "prompt=\"Enter the number of elements for rejected_items: \"\n",
    "while True:\n",
    "    try:\n",
    "        no_ele=int(input(prompt))\n",
    "    except ValueError:\n",
    "        continue\n",
    "    \n",
    "    if no_ele>100:\n",
    "        prompt=\"Size of Validation_array should not be greater then 100. \\n Please Renter the number: \"\n",
    "    elif no_ele<=0:\n",
    "         prompt=\"Size of Validation_array should be greater then 0. \\n Please Renter the number: \"\n",
    "    else:\n",
    "        break        \n",
    "\n",
    "for i in range(no_ele):\n",
    "    element=input(\"Enter element: \")\n",
    "    rejected_items.append(element)\n",
    "print(rejected_items)"
   ]
  },
  {
   "cell_type": "code",
   "execution_count": 3,
   "metadata": {},
   "outputs": [
    {
     "name": "stdout",
     "output_type": "stream",
     "text": [
      "['cat', 'bull']\n"
     ]
    }
   ],
   "source": [
    "def remove_values_from_list(the_list, val):\n",
    "    return [value for value in the_list if value != val]\n",
    "\n",
    "\n",
    "for i in range(len(rejected_items)):  \n",
    "    input_array=remove_values_from_list(input_array, rejected_items[i])\n",
    "\n",
    "print(input_array)"
   ]
  },
  {
   "cell_type": "code",
   "execution_count": null,
   "metadata": {},
   "outputs": [],
   "source": []
  }
 ],
 "metadata": {
  "kernelspec": {
   "display_name": "Python 3",
   "language": "python",
   "name": "python3"
  },
  "language_info": {
   "codemirror_mode": {
    "name": "ipython",
    "version": 3
   },
   "file_extension": ".py",
   "mimetype": "text/x-python",
   "name": "python",
   "nbconvert_exporter": "python",
   "pygments_lexer": "ipython3",
   "version": "3.7.7"
  }
 },
 "nbformat": 4,
 "nbformat_minor": 4
}
